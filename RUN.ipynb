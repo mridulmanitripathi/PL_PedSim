{
 "cells": [
  {
   "cell_type": "code",
   "execution_count": null,
   "id": "182f76ec",
   "metadata": {},
   "outputs": [],
   "source": [
    "# run this cell for storing the output in the output.txt file\n",
    "# to change parameters, edit the 'executable.py' file\n",
    "\n",
    "#!python executable.py >>num_peds.txt\n",
    "!python executable.py >>peds_loc.txt"
   ]
  },
  {
   "cell_type": "code",
   "execution_count": null,
   "id": "55afb34e",
   "metadata": {},
   "outputs": [],
   "source": []
  },
  {
   "cell_type": "code",
   "execution_count": null,
   "id": "d696638b",
   "metadata": {},
   "outputs": [],
   "source": []
  },
  {
   "cell_type": "code",
   "execution_count": null,
   "id": "dcc591cf",
   "metadata": {
    "scrolled": true
   },
   "outputs": [],
   "source": [
    "%%capture capt\n",
    "# run this cell if change in parameters is desired\n",
    "\n",
    "from ped_simulator import *\n",
    "\n",
    "flux = 2\n",
    "\n",
    "# Create simulation\n",
    "sim = Simulation()\n",
    "\n",
    "# Adding coordinated for corridors\n",
    "sim.create_halls([((0, 12.5), (25, 12.5)),  ((12.5, 25), (12.5, 0))])\n",
    "\n",
    "# For creating pedestrians on the roads\n",
    "sim.create_gen({ 'ped_rate': flux*120, 'peds': [[{\"path\": [0]}], [{\"path\": [1]}]]})\n",
    "\n",
    "# Start simulation\n",
    "vis = Visual(sim)\n",
    "vis.offset = (-12, -12)\n",
    "vis.run(steps_per_update=1)"
   ]
  },
  {
   "cell_type": "code",
   "execution_count": null,
   "id": "617a9543",
   "metadata": {},
   "outputs": [],
   "source": [
    "# for printing the output statements\n",
    "capt.show()"
   ]
  },
  {
   "cell_type": "code",
   "execution_count": null,
   "id": "e220f46d",
   "metadata": {},
   "outputs": [],
   "source": [
    "pygame. quit()"
   ]
  },
  {
   "cell_type": "code",
   "execution_count": null,
   "id": "5564e018",
   "metadata": {},
   "outputs": [],
   "source": []
  }
 ],
 "metadata": {
  "kernelspec": {
   "display_name": "Python 3",
   "language": "python",
   "name": "python3"
  },
  "language_info": {
   "codemirror_mode": {
    "name": "ipython",
    "version": 3
   },
   "file_extension": ".py",
   "mimetype": "text/x-python",
   "name": "python",
   "nbconvert_exporter": "python",
   "pygments_lexer": "ipython3",
   "version": "3.8.8"
  }
 },
 "nbformat": 4,
 "nbformat_minor": 5
}
